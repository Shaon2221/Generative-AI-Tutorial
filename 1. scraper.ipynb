{
 "cells": [
  {
   "cell_type": "code",
   "execution_count": 1,
   "metadata": {},
   "outputs": [
    {
     "name": "stdout",
     "output_type": "stream",
     "text": [
      "Title: Attention Is All You Need\n",
      "\n",
      "Introduction: \n",
      "\n",
      "\n",
      "Main Sections:\n",
      "- Authors[edit]\n",
      "- References[edit]\n",
      "- External links[edit]\n",
      "\n",
      "Sample References:\n",
      "- ^ Love, Julia (10 July 2023). \"AI Researcher Who Helped Write Landmark Paper Is Leaving Google\". Bloomberg News. Retrieved 1 April 2024.\n",
      "\n",
      "- ^ Goldman, Sharon (20 March 2024). \"'Attention is All You Need' creators look beyond Transformers for AI at Nvidia GTC: 'The world needs something better'\". VentureBeat. Retrieved 1 April 2024.\n",
      "\n",
      "- ^ Toews, Rob (3 September 2023). \"Transformers Revolutionized AI. What Will Replace Them?\". Forbes. Archived from the original on 26 September 2023. Retrieved 3 December 2023.\n",
      "\n",
      "- ^ Murgia, Madhumita (23 July 2023). \"Transformers: the Google scientists who pioneered an AI revolution\". Financial Times. Archived from the original on 28 December 2023. Retrieved 22 March 2024.\n",
      "\n",
      "- ^ Vaswani, Ashish; Shazeer, Noam; Parmar, Niki; Uszkoreit, Jakob; Jones, Llion; Gomez, Aidan N; Kaiser, Łukasz; Polosukhin, Illia (2017). \"Attention is All you Need\" (PDF). Advances in Neural Information Processing Systems. 30. Curran Associates, Inc.\n",
      "\n"
     ]
    }
   ],
   "source": [
    "import requests\n",
    "from bs4 import BeautifulSoup\n",
    "\n",
    "def scrape_wikipedia_page(url):\n",
    "    # Send a GET request to the URL\n",
    "    response = requests.get(url)\n",
    "    \n",
    "    # Check if the request was successful\n",
    "    if response.status_code != 200:\n",
    "        return f\"Failed to retrieve the page. Status code: {response.status_code}\"\n",
    "\n",
    "    # Parse the HTML content\n",
    "    soup = BeautifulSoup(response.text, 'html.parser')\n",
    "\n",
    "    # Extract the title\n",
    "    title = soup.find(id=\"firstHeading\").text\n",
    "\n",
    "    # Extract the introduction paragraph\n",
    "    intro = soup.find('div', class_='mw-parser-output').p.text\n",
    "\n",
    "    # Extract section headings\n",
    "    sections = [h2.text.strip() for h2 in soup.find_all('h2') if h2.span and h2.span.get('class') == ['mw-headline']]\n",
    "\n",
    "    # Extract references\n",
    "    references = [li.text for li in soup.find(id=\"References\").find_next('ol').find_all('li')]\n",
    "\n",
    "    # Compile the results\n",
    "    result = {\n",
    "        \"title\": title,\n",
    "        \"introduction\": intro,\n",
    "        \"sections\": sections,\n",
    "        \"references\": references[:5]  # Limit to first 5 references for brevity\n",
    "    }\n",
    "\n",
    "    return result\n",
    "\n",
    "# URL of the Wikipedia page\n",
    "url = \"https://en.wikipedia.org/wiki/Attention_Is_All_You_Need\"\n",
    "\n",
    "# Scrape the page\n",
    "data = scrape_wikipedia_page(url)\n",
    "\n",
    "# Print the results\n",
    "print(f\"Title: {data['title']}\")\n",
    "print(f\"\\nIntroduction: {data['introduction']}\")\n",
    "print(\"\\nMain Sections:\")\n",
    "for section in data['sections']:\n",
    "    print(f\"- {section}\")\n",
    "print(\"\\nSample References:\")\n",
    "for ref in data['references']:\n",
    "    print(f\"- {ref}\")"
   ]
  }
 ],
 "metadata": {
  "kernelspec": {
   "display_name": "Python 3",
   "language": "python",
   "name": "python3"
  },
  "language_info": {
   "codemirror_mode": {
    "name": "ipython",
    "version": 3
   },
   "file_extension": ".py",
   "mimetype": "text/x-python",
   "name": "python",
   "nbconvert_exporter": "python",
   "pygments_lexer": "ipython3",
   "version": "3.11.0"
  }
 },
 "nbformat": 4,
 "nbformat_minor": 2
}
