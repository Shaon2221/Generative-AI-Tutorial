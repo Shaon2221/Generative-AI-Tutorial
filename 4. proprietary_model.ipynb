{
 "cells": [
  {
   "cell_type": "code",
   "execution_count": 1,
   "metadata": {},
   "outputs": [
    {
     "name": "stdout",
     "output_type": "stream",
     "text": [
      "Requirement already satisfied: openai in /Users/shaonsikder/.pyenv/versions/3.11.0/lib/python3.11/site-packages (1.32.0)\n",
      "Requirement already satisfied: anyio<5,>=3.5.0 in /Users/shaonsikder/.pyenv/versions/3.11.0/lib/python3.11/site-packages (from openai) (4.4.0)\n",
      "Requirement already satisfied: distro<2,>=1.7.0 in /Users/shaonsikder/.pyenv/versions/3.11.0/lib/python3.11/site-packages (from openai) (1.9.0)\n",
      "Requirement already satisfied: httpx<1,>=0.23.0 in /Users/shaonsikder/.pyenv/versions/3.11.0/lib/python3.11/site-packages (from openai) (0.27.0)\n",
      "Requirement already satisfied: pydantic<3,>=1.9.0 in /Users/shaonsikder/.pyenv/versions/3.11.0/lib/python3.11/site-packages (from openai) (2.7.3)\n",
      "Requirement already satisfied: sniffio in /Users/shaonsikder/.pyenv/versions/3.11.0/lib/python3.11/site-packages (from openai) (1.3.1)\n",
      "Requirement already satisfied: tqdm>4 in /Users/shaonsikder/.pyenv/versions/3.11.0/lib/python3.11/site-packages (from openai) (4.66.4)\n",
      "Requirement already satisfied: typing-extensions<5,>=4.7 in /Users/shaonsikder/.pyenv/versions/3.11.0/lib/python3.11/site-packages (from openai) (4.12.1)\n",
      "Requirement already satisfied: idna>=2.8 in /Users/shaonsikder/.pyenv/versions/3.11.0/lib/python3.11/site-packages (from anyio<5,>=3.5.0->openai) (3.7)\n",
      "Requirement already satisfied: certifi in /Users/shaonsikder/.pyenv/versions/3.11.0/lib/python3.11/site-packages (from httpx<1,>=0.23.0->openai) (2024.6.2)\n",
      "Requirement already satisfied: httpcore==1.* in /Users/shaonsikder/.pyenv/versions/3.11.0/lib/python3.11/site-packages (from httpx<1,>=0.23.0->openai) (1.0.5)\n",
      "Requirement already satisfied: h11<0.15,>=0.13 in /Users/shaonsikder/.pyenv/versions/3.11.0/lib/python3.11/site-packages (from httpcore==1.*->httpx<1,>=0.23.0->openai) (0.14.0)\n",
      "Requirement already satisfied: annotated-types>=0.4.0 in /Users/shaonsikder/.pyenv/versions/3.11.0/lib/python3.11/site-packages (from pydantic<3,>=1.9.0->openai) (0.7.0)\n",
      "Requirement already satisfied: pydantic-core==2.18.4 in /Users/shaonsikder/.pyenv/versions/3.11.0/lib/python3.11/site-packages (from pydantic<3,>=1.9.0->openai) (2.18.4)\n",
      "\n",
      "\u001b[1m[\u001b[0m\u001b[34;49mnotice\u001b[0m\u001b[1;39;49m]\u001b[0m\u001b[39;49m A new release of pip is available: \u001b[0m\u001b[31;49m24.0\u001b[0m\u001b[39;49m -> \u001b[0m\u001b[32;49m24.1.2\u001b[0m\n",
      "\u001b[1m[\u001b[0m\u001b[34;49mnotice\u001b[0m\u001b[1;39;49m]\u001b[0m\u001b[39;49m To update, run: \u001b[0m\u001b[32;49mpip install --upgrade pip\u001b[0m\n",
      "Note: you may need to restart the kernel to use updated packages.\n"
     ]
    }
   ],
   "source": [
    "%pip install openai"
   ]
  },
  {
   "cell_type": "code",
   "execution_count": 2,
   "metadata": {},
   "outputs": [
    {
     "name": "stdout",
     "output_type": "stream",
     "text": [
      "ChatCompletionMessage(content='The purpose of life is a deeply philosophical question that can vary greatly depending on individual beliefs, cultural backgrounds, and personal experiences. Different perspectives on the purpose of life include:\\n\\n1. **Religious or Spiritual Beliefs**: Many religious traditions propose that the purpose of life is to serve a higher power, fulfill a divine plan, or attain spiritual enlightenment.\\n\\n2. **Existential Perspective**: Existentialists suggest that life has no inherent purpose, and it is up to each individual to create their own meaning through choices and actions.\\n\\n3. **Biological Perspective**: From a biological standpoint, one could argue that the purpose of life is to survive, reproduce, and pass on genetic material to future generations.\\n\\n4. **Personal Fulfillment**: Many people find purpose in personal growth, relationships, and the pursuit of happiness. This can include seeking knowledge, forming connections with others, and contributing positively to society.\\n\\n5. **Contributing to the Greater Good**: Some believe that life’s purpose involves making a difference in the lives of others, working towards social justice, environmental sustainability, or improving the human condition.\\n\\nUltimately, the purpose of life may be a personal journey of discovery, and individuals often find meaning through a combination of these perspectives based on their own experiences and reflections.', role='assistant', function_call=None, tool_calls=None)\n"
     ]
    }
   ],
   "source": [
    "from openai import OpenAI\n",
    "\n",
    "client = OpenAI(api_key=\"put your api key here\")\n",
    "\n",
    "response = client.chat.completions.create(\n",
    "    model=\"gpt-4o-mini\",\n",
    "    messages=[\n",
    "        {\"role\": \"system\", \"content\": \"You are a helpful assistant.\"},\n",
    "        {\"role\": \"user\", \"content\": \"What is the purpose of life?\"},\n",
    "    ],\n",
    ")\n",
    "\n",
    "print(response.choices[0].message)"
   ]
  },
  {
   "cell_type": "code",
   "execution_count": 3,
   "metadata": {},
   "outputs": [
    {
     "name": "stdout",
     "output_type": "stream",
     "text": [
      "Requirement already satisfied: google-generativeai in /Users/shaonsikder/.pyenv/versions/3.11.0/lib/python3.11/site-packages (0.5.4)\n",
      "Requirement already satisfied: google-ai-generativelanguage==0.6.4 in /Users/shaonsikder/.pyenv/versions/3.11.0/lib/python3.11/site-packages (from google-generativeai) (0.6.4)\n",
      "Requirement already satisfied: google-api-core in /Users/shaonsikder/.pyenv/versions/3.11.0/lib/python3.11/site-packages (from google-generativeai) (2.19.0)\n",
      "Requirement already satisfied: google-api-python-client in /Users/shaonsikder/.pyenv/versions/3.11.0/lib/python3.11/site-packages (from google-generativeai) (2.132.0)\n",
      "Requirement already satisfied: google-auth>=2.15.0 in /Users/shaonsikder/.pyenv/versions/3.11.0/lib/python3.11/site-packages (from google-generativeai) (2.29.0)\n",
      "Requirement already satisfied: protobuf in /Users/shaonsikder/.pyenv/versions/3.11.0/lib/python3.11/site-packages (from google-generativeai) (4.25.3)\n",
      "Requirement already satisfied: pydantic in /Users/shaonsikder/.pyenv/versions/3.11.0/lib/python3.11/site-packages (from google-generativeai) (2.7.3)\n",
      "Requirement already satisfied: tqdm in /Users/shaonsikder/.pyenv/versions/3.11.0/lib/python3.11/site-packages (from google-generativeai) (4.66.4)\n",
      "Requirement already satisfied: typing-extensions in /Users/shaonsikder/.pyenv/versions/3.11.0/lib/python3.11/site-packages (from google-generativeai) (4.12.1)\n",
      "Requirement already satisfied: proto-plus<2.0.0dev,>=1.22.3 in /Users/shaonsikder/.pyenv/versions/3.11.0/lib/python3.11/site-packages (from google-ai-generativelanguage==0.6.4->google-generativeai) (1.23.0)\n",
      "Requirement already satisfied: googleapis-common-protos<2.0.dev0,>=1.56.2 in /Users/shaonsikder/.pyenv/versions/3.11.0/lib/python3.11/site-packages (from google-api-core->google-generativeai) (1.63.1)\n",
      "Requirement already satisfied: requests<3.0.0.dev0,>=2.18.0 in /Users/shaonsikder/.pyenv/versions/3.11.0/lib/python3.11/site-packages (from google-api-core->google-generativeai) (2.32.3)\n",
      "Requirement already satisfied: cachetools<6.0,>=2.0.0 in /Users/shaonsikder/.pyenv/versions/3.11.0/lib/python3.11/site-packages (from google-auth>=2.15.0->google-generativeai) (5.3.3)\n",
      "Requirement already satisfied: pyasn1-modules>=0.2.1 in /Users/shaonsikder/.pyenv/versions/3.11.0/lib/python3.11/site-packages (from google-auth>=2.15.0->google-generativeai) (0.4.0)\n",
      "Requirement already satisfied: rsa<5,>=3.1.4 in /Users/shaonsikder/.pyenv/versions/3.11.0/lib/python3.11/site-packages (from google-auth>=2.15.0->google-generativeai) (4.9)\n",
      "Requirement already satisfied: httplib2<1.dev0,>=0.19.0 in /Users/shaonsikder/.pyenv/versions/3.11.0/lib/python3.11/site-packages (from google-api-python-client->google-generativeai) (0.22.0)\n",
      "Requirement already satisfied: google-auth-httplib2<1.0.0,>=0.2.0 in /Users/shaonsikder/.pyenv/versions/3.11.0/lib/python3.11/site-packages (from google-api-python-client->google-generativeai) (0.2.0)\n",
      "Requirement already satisfied: uritemplate<5,>=3.0.1 in /Users/shaonsikder/.pyenv/versions/3.11.0/lib/python3.11/site-packages (from google-api-python-client->google-generativeai) (4.1.1)\n",
      "Requirement already satisfied: annotated-types>=0.4.0 in /Users/shaonsikder/.pyenv/versions/3.11.0/lib/python3.11/site-packages (from pydantic->google-generativeai) (0.7.0)\n",
      "Requirement already satisfied: pydantic-core==2.18.4 in /Users/shaonsikder/.pyenv/versions/3.11.0/lib/python3.11/site-packages (from pydantic->google-generativeai) (2.18.4)\n",
      "Requirement already satisfied: grpcio<2.0dev,>=1.33.2 in /Users/shaonsikder/.pyenv/versions/3.11.0/lib/python3.11/site-packages (from google-api-core[grpc]!=2.0.*,!=2.1.*,!=2.10.*,!=2.2.*,!=2.3.*,!=2.4.*,!=2.5.*,!=2.6.*,!=2.7.*,!=2.8.*,!=2.9.*,<3.0.0dev,>=1.34.1->google-ai-generativelanguage==0.6.4->google-generativeai) (1.64.1)\n",
      "Requirement already satisfied: grpcio-status<2.0.dev0,>=1.33.2 in /Users/shaonsikder/.pyenv/versions/3.11.0/lib/python3.11/site-packages (from google-api-core[grpc]!=2.0.*,!=2.1.*,!=2.10.*,!=2.2.*,!=2.3.*,!=2.4.*,!=2.5.*,!=2.6.*,!=2.7.*,!=2.8.*,!=2.9.*,<3.0.0dev,>=1.34.1->google-ai-generativelanguage==0.6.4->google-generativeai) (1.62.2)\n",
      "Requirement already satisfied: pyparsing!=3.0.0,!=3.0.1,!=3.0.2,!=3.0.3,<4,>=2.4.2 in /Users/shaonsikder/.pyenv/versions/3.11.0/lib/python3.11/site-packages (from httplib2<1.dev0,>=0.19.0->google-api-python-client->google-generativeai) (3.1.2)\n",
      "Requirement already satisfied: pyasn1<0.7.0,>=0.4.6 in /Users/shaonsikder/.pyenv/versions/3.11.0/lib/python3.11/site-packages (from pyasn1-modules>=0.2.1->google-auth>=2.15.0->google-generativeai) (0.6.0)\n",
      "Requirement already satisfied: charset-normalizer<4,>=2 in /Users/shaonsikder/.pyenv/versions/3.11.0/lib/python3.11/site-packages (from requests<3.0.0.dev0,>=2.18.0->google-api-core->google-generativeai) (3.3.2)\n",
      "Requirement already satisfied: idna<4,>=2.5 in /Users/shaonsikder/.pyenv/versions/3.11.0/lib/python3.11/site-packages (from requests<3.0.0.dev0,>=2.18.0->google-api-core->google-generativeai) (3.7)\n",
      "Requirement already satisfied: urllib3<3,>=1.21.1 in /Users/shaonsikder/.pyenv/versions/3.11.0/lib/python3.11/site-packages (from requests<3.0.0.dev0,>=2.18.0->google-api-core->google-generativeai) (1.26.18)\n",
      "Requirement already satisfied: certifi>=2017.4.17 in /Users/shaonsikder/.pyenv/versions/3.11.0/lib/python3.11/site-packages (from requests<3.0.0.dev0,>=2.18.0->google-api-core->google-generativeai) (2024.6.2)\n",
      "\n",
      "\u001b[1m[\u001b[0m\u001b[34;49mnotice\u001b[0m\u001b[1;39;49m]\u001b[0m\u001b[39;49m A new release of pip is available: \u001b[0m\u001b[31;49m24.0\u001b[0m\u001b[39;49m -> \u001b[0m\u001b[32;49m24.1.2\u001b[0m\n",
      "\u001b[1m[\u001b[0m\u001b[34;49mnotice\u001b[0m\u001b[1;39;49m]\u001b[0m\u001b[39;49m To update, run: \u001b[0m\u001b[32;49mpip install --upgrade pip\u001b[0m\n",
      "Note: you may need to restart the kernel to use updated packages.\n"
     ]
    }
   ],
   "source": [
    "%pip install google-generativeai"
   ]
  },
  {
   "cell_type": "code",
   "execution_count": 4,
   "metadata": {},
   "outputs": [
    {
     "name": "stderr",
     "output_type": "stream",
     "text": [
      "/Users/shaonsikder/.pyenv/versions/3.11.0/lib/python3.11/site-packages/tqdm/auto.py:21: TqdmWarning: IProgress not found. Please update jupyter and ipywidgets. See https://ipywidgets.readthedocs.io/en/stable/user_install.html\n",
      "  from .autonotebook import tqdm as notebook_tqdm\n"
     ]
    },
    {
     "name": "stdout",
     "output_type": "stream",
     "text": [
      "The logic behind calculus is built on the foundation of two main ideas:\n",
      "\n",
      "**1. Limits and Continuity:**\n",
      "\n",
      "* **Limits:** This concept allows us to understand the behavior of a function as its input approaches a certain value.  Imagine zooming in infinitely close to a point on a graph. The limit tells us what value the function is approaching, even if it doesn't actually reach that value.\n",
      "* **Continuity:** This describes functions that behave smoothly without any sudden jumps or breaks.  Continuity is essential for the core ideas of calculus because it allows us to smoothly connect points and analyze how functions change.\n",
      "\n",
      "**2.  Infinitesimals and the Idea of \"Infinitely Small\":**\n",
      "\n",
      "* **Infinitesimals:** While not strictly defined as real numbers, we can think of infinitesimals as values that are infinitely small but not zero.\n",
      "* **Derivatives:**  Imagine zooming in on a curve until it looks almost like a straight line. The derivative represents the slope of that \"instantaneous\" line. It tells us how rapidly a function is changing at a specific point. This is achieved by calculating the limit of the slope of secant lines as they approach an infinitely small distance apart.\n",
      "* **Integrals:**  This is like taking the \"area under the curve\" of a function. We divide the area into infinitely many tiny rectangles (each with an infinitesimal width) and sum them up. This gives us the total area, which can be used to calculate things like volume, work, and other physical quantities.\n",
      "\n",
      "**Key Logic:**\n",
      "\n",
      "* **Approximation and Limiting Processes:** Calculus utilizes the power of approximation by dividing problems into infinitesimally small parts.  We then use the concept of limits to \"zoom in\" and find the exact value as these parts become infinitely small.\n",
      "* **Dynamic Change:** Calculus is designed to model and analyze change.  It allows us to study how quantities change over time, how they relate to each other, and how they interact.\n",
      "* **Abstraction:** Calculus uses abstract symbols and notations to represent complex concepts. This allows for a more concise and powerful way of expressing the relationships between variables and functions.\n",
      "\n",
      "**In Summary:**\n",
      "\n",
      "Calculus is a powerful tool that uses the concepts of limits and infinitesimals to study continuous change. It allows us to understand the rate of change, accumulation of change, and other dynamic processes that are crucial in many fields of science, engineering, and mathematics.\n",
      "\n"
     ]
    }
   ],
   "source": [
    "import google.generativeai as genai\n",
    "\n",
    "genai.configure(api_key=\"put your api key here\")\n",
    "\n",
    "generation_config = {\n",
    "  \"temperature\": 1,\n",
    "  \"top_p\": 0.95,\n",
    "  \"top_k\": 64,\n",
    "  \"max_output_tokens\": 8192,\n",
    "  \"response_mime_type\": \"text/plain\",\n",
    "}\n",
    "\n",
    "llm = genai.GenerativeModel(\n",
    "  model_name=\"gemini-1.5-flash\",\n",
    "  generation_config=generation_config,\n",
    ")\n",
    "\n",
    "chat_session = llm.start_chat(\n",
    "  history=[\n",
    "  ]\n",
    ")\n",
    "\n",
    "response = chat_session.send_message(\"what is the logic behind calculus?\")\n",
    "\n",
    "print(response.text)"
   ]
  },
  {
   "cell_type": "code",
   "execution_count": 5,
   "metadata": {},
   "outputs": [
    {
     "name": "stdout",
     "output_type": "stream",
     "text": [
      "Collecting anthropic\n",
      "  Downloading anthropic-0.31.2-py3-none-any.whl.metadata (18 kB)\n",
      "Requirement already satisfied: anyio<5,>=3.5.0 in /Users/shaonsikder/.pyenv/versions/3.11.0/lib/python3.11/site-packages (from anthropic) (4.4.0)\n",
      "Requirement already satisfied: distro<2,>=1.7.0 in /Users/shaonsikder/.pyenv/versions/3.11.0/lib/python3.11/site-packages (from anthropic) (1.9.0)\n",
      "Requirement already satisfied: httpx<1,>=0.23.0 in /Users/shaonsikder/.pyenv/versions/3.11.0/lib/python3.11/site-packages (from anthropic) (0.27.0)\n",
      "Collecting jiter<1,>=0.4.0 (from anthropic)\n",
      "  Downloading jiter-0.5.0-cp311-cp311-macosx_11_0_arm64.whl.metadata (3.6 kB)\n",
      "Requirement already satisfied: pydantic<3,>=1.9.0 in /Users/shaonsikder/.pyenv/versions/3.11.0/lib/python3.11/site-packages (from anthropic) (2.7.3)\n",
      "Requirement already satisfied: sniffio in /Users/shaonsikder/.pyenv/versions/3.11.0/lib/python3.11/site-packages (from anthropic) (1.3.1)\n",
      "Requirement already satisfied: tokenizers>=0.13.0 in /Users/shaonsikder/.pyenv/versions/3.11.0/lib/python3.11/site-packages (from anthropic) (0.19.1)\n",
      "Requirement already satisfied: typing-extensions<5,>=4.7 in /Users/shaonsikder/.pyenv/versions/3.11.0/lib/python3.11/site-packages (from anthropic) (4.12.1)\n",
      "Requirement already satisfied: idna>=2.8 in /Users/shaonsikder/.pyenv/versions/3.11.0/lib/python3.11/site-packages (from anyio<5,>=3.5.0->anthropic) (3.7)\n",
      "Requirement already satisfied: certifi in /Users/shaonsikder/.pyenv/versions/3.11.0/lib/python3.11/site-packages (from httpx<1,>=0.23.0->anthropic) (2024.6.2)\n",
      "Requirement already satisfied: httpcore==1.* in /Users/shaonsikder/.pyenv/versions/3.11.0/lib/python3.11/site-packages (from httpx<1,>=0.23.0->anthropic) (1.0.5)\n",
      "Requirement already satisfied: h11<0.15,>=0.13 in /Users/shaonsikder/.pyenv/versions/3.11.0/lib/python3.11/site-packages (from httpcore==1.*->httpx<1,>=0.23.0->anthropic) (0.14.0)\n",
      "Requirement already satisfied: annotated-types>=0.4.0 in /Users/shaonsikder/.pyenv/versions/3.11.0/lib/python3.11/site-packages (from pydantic<3,>=1.9.0->anthropic) (0.7.0)\n",
      "Requirement already satisfied: pydantic-core==2.18.4 in /Users/shaonsikder/.pyenv/versions/3.11.0/lib/python3.11/site-packages (from pydantic<3,>=1.9.0->anthropic) (2.18.4)\n",
      "Requirement already satisfied: huggingface-hub<1.0,>=0.16.4 in /Users/shaonsikder/.pyenv/versions/3.11.0/lib/python3.11/site-packages (from tokenizers>=0.13.0->anthropic) (0.23.3)\n",
      "Requirement already satisfied: filelock in /Users/shaonsikder/.pyenv/versions/3.11.0/lib/python3.11/site-packages (from huggingface-hub<1.0,>=0.16.4->tokenizers>=0.13.0->anthropic) (3.14.0)\n",
      "Requirement already satisfied: fsspec>=2023.5.0 in /Users/shaonsikder/.pyenv/versions/3.11.0/lib/python3.11/site-packages (from huggingface-hub<1.0,>=0.16.4->tokenizers>=0.13.0->anthropic) (2024.6.0)\n",
      "Requirement already satisfied: packaging>=20.9 in /Users/shaonsikder/.pyenv/versions/3.11.0/lib/python3.11/site-packages (from huggingface-hub<1.0,>=0.16.4->tokenizers>=0.13.0->anthropic) (23.2)\n",
      "Requirement already satisfied: pyyaml>=5.1 in /Users/shaonsikder/.pyenv/versions/3.11.0/lib/python3.11/site-packages (from huggingface-hub<1.0,>=0.16.4->tokenizers>=0.13.0->anthropic) (6.0.1)\n",
      "Requirement already satisfied: requests in /Users/shaonsikder/.pyenv/versions/3.11.0/lib/python3.11/site-packages (from huggingface-hub<1.0,>=0.16.4->tokenizers>=0.13.0->anthropic) (2.32.3)\n",
      "Requirement already satisfied: tqdm>=4.42.1 in /Users/shaonsikder/.pyenv/versions/3.11.0/lib/python3.11/site-packages (from huggingface-hub<1.0,>=0.16.4->tokenizers>=0.13.0->anthropic) (4.66.4)\n",
      "Requirement already satisfied: charset-normalizer<4,>=2 in /Users/shaonsikder/.pyenv/versions/3.11.0/lib/python3.11/site-packages (from requests->huggingface-hub<1.0,>=0.16.4->tokenizers>=0.13.0->anthropic) (3.3.2)\n",
      "Requirement already satisfied: urllib3<3,>=1.21.1 in /Users/shaonsikder/.pyenv/versions/3.11.0/lib/python3.11/site-packages (from requests->huggingface-hub<1.0,>=0.16.4->tokenizers>=0.13.0->anthropic) (1.26.18)\n",
      "Downloading anthropic-0.31.2-py3-none-any.whl (865 kB)\n",
      "\u001b[2K   \u001b[90m━━━━━━━━━━━━━━━━━━━━━━━━━━━━━━━━━━━━━━━━\u001b[0m \u001b[32m865.5/865.5 kB\u001b[0m \u001b[31m95.3 kB/s\u001b[0m eta \u001b[36m0:00:00\u001b[0m00:01\u001b[0m00:01\u001b[0m\n",
      "\u001b[?25hDownloading jiter-0.5.0-cp311-cp311-macosx_11_0_arm64.whl (299 kB)\n",
      "\u001b[2K   \u001b[90m━━━━━━━━━━━━━━━━━━━━━━━━━━━━━━━━━━━━━━━\u001b[0m \u001b[32m299.3/299.3 kB\u001b[0m \u001b[31m147.1 kB/s\u001b[0m eta \u001b[36m0:00:00\u001b[0ma \u001b[36m0:00:01\u001b[0m\n",
      "\u001b[?25hInstalling collected packages: jiter, anthropic\n",
      "Successfully installed anthropic-0.31.2 jiter-0.5.0\n",
      "\n",
      "\u001b[1m[\u001b[0m\u001b[34;49mnotice\u001b[0m\u001b[1;39;49m]\u001b[0m\u001b[39;49m A new release of pip is available: \u001b[0m\u001b[31;49m24.0\u001b[0m\u001b[39;49m -> \u001b[0m\u001b[32;49m24.1.2\u001b[0m\n",
      "\u001b[1m[\u001b[0m\u001b[34;49mnotice\u001b[0m\u001b[1;39;49m]\u001b[0m\u001b[39;49m To update, run: \u001b[0m\u001b[32;49mpip install --upgrade pip\u001b[0m\n",
      "Note: you may need to restart the kernel to use updated packages.\n"
     ]
    }
   ],
   "source": [
    "%pip install anthropic"
   ]
  },
  {
   "cell_type": "code",
   "execution_count": null,
   "metadata": {},
   "outputs": [],
   "source": [
    "import os\n",
    "ANTHROPIC_API_KEY = os.getenv(\"ANTHROPIC_API_KEY\")"
   ]
  },
  {
   "cell_type": "code",
   "execution_count": null,
   "metadata": {},
   "outputs": [],
   "source": [
    "import anthropic\n",
    "\n",
    "client = anthropic.Anthropic(api_key=\"put your api key here\")\n",
    "\n",
    "message = client.messages.create(\n",
    "    model=\"claude-3-5-sonnet-20240620\",\n",
    "    max_tokens=1000,\n",
    "    temperature=0,\n",
    "    system=\"You are a world-class poet. Respond only with short poems.\",\n",
    "    messages=[\n",
    "        {\n",
    "            \"role\": \"user\",\n",
    "            \"content\": [\n",
    "                {\n",
    "                    \"type\": \"text\",\n",
    "                    \"text\": \"Why is the ocean salty?\"\n",
    "                }\n",
    "            ]\n",
    "        }\n",
    "    ]\n",
    ")\n",
    "print(message.content)"
   ]
  },
  {
   "cell_type": "code",
   "execution_count": null,
   "metadata": {},
   "outputs": [],
   "source": [
    "# Default\n",
    "import os\n",
    "\n",
    "from groq import Groq\n",
    "\n",
    "client = Groq(\n",
    "    # This is the default and can be omitted\n",
    "    api_key=os.environ.get(\"GROQ_API_KEY\"),\n",
    ")\n",
    "\n",
    "chat_completion = client.chat.completions.create(\n",
    "    messages=[\n",
    "        {\n",
    "            \"role\": \"system\",\n",
    "            \"content\": \"you are a helpful assistant.\"\n",
    "        },\n",
    "        {\n",
    "            \"role\": \"user\",\n",
    "            \"content\": \"Explain the importance of fast language models\",\n",
    "        }\n",
    "    ],\n",
    "    model=\"mixtral-8x7b-32768\",\n",
    ")\n",
    "\n",
    "print(chat_completion.choices[0].message.content)"
   ]
  },
  {
   "cell_type": "code",
   "execution_count": null,
   "metadata": {},
   "outputs": [],
   "source": [
    "- mistral\n",
    "- groq"
   ]
  }
 ],
 "metadata": {
  "kernelspec": {
   "display_name": "Python 3",
   "language": "python",
   "name": "python3"
  },
  "language_info": {
   "codemirror_mode": {
    "name": "ipython",
    "version": 3
   },
   "file_extension": ".py",
   "mimetype": "text/x-python",
   "name": "python",
   "nbconvert_exporter": "python",
   "pygments_lexer": "ipython3",
   "version": "3.11.0"
  }
 },
 "nbformat": 4,
 "nbformat_minor": 2
}
