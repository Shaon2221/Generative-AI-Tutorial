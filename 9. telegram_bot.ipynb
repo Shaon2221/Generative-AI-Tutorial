{
 "cells": [
  {
   "cell_type": "code",
   "execution_count": 1,
   "metadata": {},
   "outputs": [
    {
     "name": "stdout",
     "output_type": "stream",
     "text": [
      "Collecting python-telegram-bot\n",
      "  Downloading python_telegram_bot-21.4-py3-none-any.whl.metadata (17 kB)\n",
      "Requirement already satisfied: httpx~=0.27 in /Users/shaonsikder/.pyenv/versions/3.11.0/lib/python3.11/site-packages (from python-telegram-bot) (0.27.0)\n",
      "Requirement already satisfied: anyio in /Users/shaonsikder/.pyenv/versions/3.11.0/lib/python3.11/site-packages (from httpx~=0.27->python-telegram-bot) (4.4.0)\n",
      "Requirement already satisfied: certifi in /Users/shaonsikder/.pyenv/versions/3.11.0/lib/python3.11/site-packages (from httpx~=0.27->python-telegram-bot) (2024.6.2)\n",
      "Requirement already satisfied: httpcore==1.* in /Users/shaonsikder/.pyenv/versions/3.11.0/lib/python3.11/site-packages (from httpx~=0.27->python-telegram-bot) (1.0.5)\n",
      "Requirement already satisfied: idna in /Users/shaonsikder/.pyenv/versions/3.11.0/lib/python3.11/site-packages (from httpx~=0.27->python-telegram-bot) (3.7)\n",
      "Requirement already satisfied: sniffio in /Users/shaonsikder/.pyenv/versions/3.11.0/lib/python3.11/site-packages (from httpx~=0.27->python-telegram-bot) (1.3.1)\n",
      "Requirement already satisfied: h11<0.15,>=0.13 in /Users/shaonsikder/.pyenv/versions/3.11.0/lib/python3.11/site-packages (from httpcore==1.*->httpx~=0.27->python-telegram-bot) (0.14.0)\n",
      "Downloading python_telegram_bot-21.4-py3-none-any.whl (644 kB)\n",
      "\u001b[2K   \u001b[90m━━━━━━━━━━━━━━━━━━━━━━━━━━━━━━━━━━━━━━━━\u001b[0m \u001b[32m644.8/644.8 kB\u001b[0m \u001b[31m2.9 MB/s\u001b[0m eta \u001b[36m0:00:00\u001b[0ma \u001b[36m0:00:01\u001b[0mm\n",
      "\u001b[?25hInstalling collected packages: python-telegram-bot\n",
      "Successfully installed python-telegram-bot-21.4\n",
      "\n",
      "\u001b[1m[\u001b[0m\u001b[34;49mnotice\u001b[0m\u001b[1;39;49m]\u001b[0m\u001b[39;49m A new release of pip is available: \u001b[0m\u001b[31;49m24.0\u001b[0m\u001b[39;49m -> \u001b[0m\u001b[32;49m24.2\u001b[0m\n",
      "\u001b[1m[\u001b[0m\u001b[34;49mnotice\u001b[0m\u001b[1;39;49m]\u001b[0m\u001b[39;49m To update, run: \u001b[0m\u001b[32;49mpip install --upgrade pip\u001b[0m\n",
      "Note: you may need to restart the kernel to use updated packages.\n"
     ]
    }
   ],
   "source": [
    "%pip install python-telegram-bot"
   ]
  },
  {
   "cell_type": "code",
   "execution_count": null,
   "metadata": {},
   "outputs": [],
   "source": [
    "import logging\n",
    "from telegram import Update\n",
    "from telegram.ext import ApplicationBuilder, CommandHandler, MessageHandler, filters, ContextTypes\n",
    "\n",
    "# Enable logging\n",
    "logging.basicConfig(\n",
    "    format='%(asctime)s - %(name)s - %(levelname)s - %(message)s',\n",
    "    level=logging.INFO\n",
    ")\n",
    "\n",
    "TOKEN = \"YOUR_BOT_TOKEN\" # Get your bot token from BotFather\n",
    "\n",
    "# Command handler for /start command\n",
    "async def start(update: Update, context: ContextTypes.DEFAULT_TYPE):\n",
    "    await update.message.reply_text('Hello! I am your Horizon bot. How can I help you?')\n",
    "\n",
    "# Command handler for /help command\n",
    "async def help_command(update: Update, context: ContextTypes.DEFAULT_TYPE):\n",
    "    await update.message.reply_text('I can respond to /start and /help commands, as well as specific words in your messages.')\n",
    "\n",
    "\n",
    "# Message handler for specific words\n",
    "async def handle_message(update: Update, context: ContextTypes.DEFAULT_TYPE):\n",
    "    text = update.message.text.lower()\n",
    "    \n",
    "    # Check if the message is from a group chat\n",
    "    if update.message.chat.type in ['group', 'supergroup']:\n",
    "        # Only respond if the bot is mentioned\n",
    "        if context.bot.name.lower() in text:\n",
    "            if 'hello' in text:\n",
    "                await update.message.reply_text('Hello! I heard you mention me in this group. Thanks for choosing Horizon!')\n",
    "            elif 'weather' in text:\n",
    "                await update.message.reply_text('I heard you talking about weather. Unfortunately, I can\\'t check the weather yet.')\n",
    "    else:\n",
    "        # Direct message handling\n",
    "        if 'hello' in text:\n",
    "            await update.message.reply_text('Hello there, I am Horizon bot here!')\n",
    "        elif 'weather' in text:\n",
    "            await update.message.reply_text('I\\'m sorry, I can\\'t check the weather yet.')\n",
    "\n",
    "# Error handler\n",
    "async def error(update: Update, context: ContextTypes.DEFAULT_TYPE):\n",
    "    logging.error(f'Update {update} caused error {context.error}')\n",
    "    if update.message:\n",
    "        await update.message.reply_text('Sorry, something went wrong. Please try again later.')\n",
    "\n",
    "# Create the application\n",
    "def main():\n",
    "    # Create the Application and pass it your bot's token\n",
    "    application = ApplicationBuilder().token(TOKEN).build()\n",
    "\n",
    "    # Add command handlers\n",
    "    application.add_handler(CommandHandler('start', start))\n",
    "    application.add_handler(CommandHandler('help', help_command))\n",
    "\n",
    "    # Add message handler\n",
    "    application.add_handler(MessageHandler(filters.TEXT & ~filters.COMMAND, handle_message))\n",
    "\n",
    "    # Add error handler\n",
    "    application.add_error_handler(error)\n",
    "\n",
    "    # Start the Bot\n",
    "    application.run_polling()\n",
    "\n",
    "if __name__ == '__main__':\n",
    "    main()\n",
    "\n",
    "# Save this as py file and run it in terminal"
   ]
  },
  {
   "cell_type": "code",
   "execution_count": 3,
   "metadata": {},
   "outputs": [
    {
     "name": "stdout",
     "output_type": "stream",
     "text": [
      "Requirement already satisfied: huggingface_hub in /Users/shaonsikder/.pyenv/versions/3.11.0/lib/python3.11/site-packages (0.23.3)\n",
      "Requirement already satisfied: filelock in /Users/shaonsikder/.pyenv/versions/3.11.0/lib/python3.11/site-packages (from huggingface_hub) (3.14.0)\n",
      "Requirement already satisfied: fsspec>=2023.5.0 in /Users/shaonsikder/.pyenv/versions/3.11.0/lib/python3.11/site-packages (from huggingface_hub) (2024.6.0)\n",
      "Requirement already satisfied: packaging>=20.9 in /Users/shaonsikder/.pyenv/versions/3.11.0/lib/python3.11/site-packages (from huggingface_hub) (23.2)\n",
      "Requirement already satisfied: pyyaml>=5.1 in /Users/shaonsikder/.pyenv/versions/3.11.0/lib/python3.11/site-packages (from huggingface_hub) (6.0.1)\n",
      "Requirement already satisfied: requests in /Users/shaonsikder/.pyenv/versions/3.11.0/lib/python3.11/site-packages (from huggingface_hub) (2.32.3)\n",
      "Requirement already satisfied: tqdm>=4.42.1 in /Users/shaonsikder/.pyenv/versions/3.11.0/lib/python3.11/site-packages (from huggingface_hub) (4.66.4)\n",
      "Requirement already satisfied: typing-extensions>=3.7.4.3 in /Users/shaonsikder/.pyenv/versions/3.11.0/lib/python3.11/site-packages (from huggingface_hub) (4.12.1)\n",
      "Requirement already satisfied: charset-normalizer<4,>=2 in /Users/shaonsikder/.pyenv/versions/3.11.0/lib/python3.11/site-packages (from requests->huggingface_hub) (3.3.2)\n",
      "Requirement already satisfied: idna<4,>=2.5 in /Users/shaonsikder/.pyenv/versions/3.11.0/lib/python3.11/site-packages (from requests->huggingface_hub) (3.7)\n",
      "Requirement already satisfied: urllib3<3,>=1.21.1 in /Users/shaonsikder/.pyenv/versions/3.11.0/lib/python3.11/site-packages (from requests->huggingface_hub) (2.2.2)\n",
      "Requirement already satisfied: certifi>=2017.4.17 in /Users/shaonsikder/.pyenv/versions/3.11.0/lib/python3.11/site-packages (from requests->huggingface_hub) (2024.6.2)\n",
      "\n",
      "\u001b[1m[\u001b[0m\u001b[34;49mnotice\u001b[0m\u001b[1;39;49m]\u001b[0m\u001b[39;49m A new release of pip is available: \u001b[0m\u001b[31;49m24.0\u001b[0m\u001b[39;49m -> \u001b[0m\u001b[32;49m24.2\u001b[0m\n",
      "\u001b[1m[\u001b[0m\u001b[34;49mnotice\u001b[0m\u001b[1;39;49m]\u001b[0m\u001b[39;49m To update, run: \u001b[0m\u001b[32;49mpip install --upgrade pip\u001b[0m\n",
      "Note: you may need to restart the kernel to use updated packages.\n"
     ]
    }
   ],
   "source": [
    "%pip install huggingface_hub"
   ]
  },
  {
   "cell_type": "code",
   "execution_count": 6,
   "metadata": {},
   "outputs": [],
   "source": [
    "from huggingface_hub import InferenceClient\n",
    "import requests\n",
    "\n",
    "# Initialize the Hugging Face InferenceClient with your API key\n",
    "client = InferenceClient(\n",
    "    model=\"mistralai/Mistral-7B-Instruct-v0.2\",\n",
    "    token=\"Your Hugging Face API Token\",\n",
    ")\n",
    "\n",
    "def generate_response(text: str) -> str:\n",
    "    response = client.chat_completion(\n",
    "        messages=[\n",
    "            {\"role\": \"system\", \"content\": \"\"\"You are a AI bot of Horizon Solutions.\n",
    "             It is a company that provides AI solutions to businesses, also develop Web Applications, Mobile Applications, and Custom Software.\n",
    "             They are based in Dhaka, Bangladesh. You can visit their website at https://horizonsolutions.tech/.\n",
    "             \"\"\"},\n",
    "            {\"role\": \"user\", \"content\": text}\n",
    "            ],\n",
    "        max_tokens=500,\n",
    "        stream=False\n",
    "    )\n",
    "    return response.choices[0].message.content"
   ]
  },
  {
   "cell_type": "code",
   "execution_count": 7,
   "metadata": {},
   "outputs": [
    {
     "data": {
      "text/plain": [
       "' I am an AI language model created by Horizon Solutions, a technology company based in Dhaka, Bangladesh. We specialize in providing AI solutions for businesses, as well as developing Web Applications, Mobile Applications, and Custom Software. You can learn more about us and our services on our website at https://horizonsolutions.tech/.'"
      ]
     },
     "execution_count": 7,
     "metadata": {},
     "output_type": "execute_result"
    }
   ],
   "source": [
    "generate_response(\"Who are you?\")"
   ]
  },
  {
   "cell_type": "code",
   "execution_count": null,
   "metadata": {},
   "outputs": [],
   "source": []
  }
 ],
 "metadata": {
  "kernelspec": {
   "display_name": "Python 3",
   "language": "python",
   "name": "python3"
  },
  "language_info": {
   "codemirror_mode": {
    "name": "ipython",
    "version": 3
   },
   "file_extension": ".py",
   "mimetype": "text/x-python",
   "name": "python",
   "nbconvert_exporter": "python",
   "pygments_lexer": "ipython3",
   "version": "3.11.0"
  }
 },
 "nbformat": 4,
 "nbformat_minor": 2
}
